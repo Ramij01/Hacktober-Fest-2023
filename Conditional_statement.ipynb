{
 "cells": [
  {
   "cell_type": "code",
   "execution_count": 2,
   "id": "399c32e5-a0ca-44ae-909f-0f7d50bf24c2",
   "metadata": {},
   "outputs": [
    {
     "name": "stdout",
     "output_type": "stream",
     "text": [
      "Batch A\n"
     ]
    }
   ],
   "source": [
    "Marks = int(input(\"Enter your marks:\"))\n",
    "if Marks>=80:\n",
    "    print(\"Batch A\")\n",
    "elif Marks>=60 and Marks<80:\n",
    "    print(\"Btach B\")\n",
    "else :\n",
    "    print(\"Batch C\")\n"
   ]
  },
  {
   "cell_type": "code",
   "execution_count": 6,
   "id": "dd480fea-5919-4248-bc6b-36a3cc69f67f",
   "metadata": {},
   "outputs": [
    {
     "name": "stdout",
     "output_type": "stream",
     "text": [
      "I will purchase it.\n"
     ]
    }
   ],
   "source": [
    "price=int(input(\"Enter price:\"))\n",
    "if price>=1000:\n",
    "    print(\"I will not purchase it\")\n",
    "    if price>=7000:\n",
    "        print(\"This is too much\")\n",
    "    elif price>=3000:\n",
    "        print(\"Its ok\")\n",
    "elif price <=1000:\n",
    "    print(\"I will purchase it.\")"
   ]
  },
  {
   "cell_type": "code",
   "execution_count": null,
   "id": "6f6a1f62",
   "metadata": {},
   "outputs": [],
   "source": [
    "\n"
   ]
  }
 ],
 "metadata": {
  "kernelspec": {
   "display_name": "Python 3 (ipykernel)",
   "language": "python",
   "name": "python3"
  },
  "language_info": {
   "codemirror_mode": {
    "name": "ipython",
    "version": 3
   },
   "file_extension": ".py",
   "mimetype": "text/x-python",
   "name": "python",
   "nbconvert_exporter": "python",
   "pygments_lexer": "ipython3",
   "version": "3.13.2"
  }
 },
 "nbformat": 4,
 "nbformat_minor": 5
}
