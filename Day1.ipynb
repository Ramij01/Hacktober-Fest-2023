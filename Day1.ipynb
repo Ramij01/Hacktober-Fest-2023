{
 "cells": [
  {
   "cell_type": "code",
   "execution_count": 1,
   "id": "f9218099-5e1c-4090-8fb7-db82e23aecd2",
   "metadata": {},
   "outputs": [
    {
     "data": {
      "text/plain": [
       "2"
      ]
     },
     "execution_count": 1,
     "metadata": {},
     "output_type": "execute_result"
    }
   ],
   "source": [
    "1+1"
   ]
  },
  {
   "cell_type": "code",
   "execution_count": 6,
   "id": "d17910dc-51de-4c0d-bff7-9df64b2805a8",
   "metadata": {},
   "outputs": [],
   "source": [
    "a=90"
   ]
  },
  {
   "cell_type": "code",
   "execution_count": 7,
   "id": "717e58e5-056b-4642-92af-fb3313333174",
   "metadata": {},
   "outputs": [
    {
     "data": {
      "text/plain": [
       "90"
      ]
     },
     "execution_count": 7,
     "metadata": {},
     "output_type": "execute_result"
    }
   ],
   "source": [
    "a"
   ]
  },
  {
   "cell_type": "code",
   "execution_count": 9,
   "id": "747923a0-bcf4-45f2-b658-53f73990da71",
   "metadata": {},
   "outputs": [],
   "source": [
    "b=40"
   ]
  },
  {
   "cell_type": "code",
   "execution_count": 10,
   "id": "34c0a280-3bc7-489a-bf03-75f8ee067d67",
   "metadata": {},
   "outputs": [
    {
     "data": {
      "text/plain": [
       "130"
      ]
     },
     "execution_count": 10,
     "metadata": {},
     "output_type": "execute_result"
    }
   ],
   "source": [
    "a+b"
   ]
  },
  {
   "cell_type": "code",
   "execution_count": 11,
   "id": "929e031e-3154-4a3c-bd71-7e6ac89afcca",
   "metadata": {},
   "outputs": [
    {
     "data": {
      "text/plain": [
       "int"
      ]
     },
     "execution_count": 11,
     "metadata": {},
     "output_type": "execute_result"
    }
   ],
   "source": [
    "type(a)"
   ]
  },
  {
   "cell_type": "code",
   "execution_count": 12,
   "id": "392ebb62-3407-49e2-b1c5-aad2c4c81234",
   "metadata": {},
   "outputs": [],
   "source": [
    "b=2.9"
   ]
  },
  {
   "cell_type": "code",
   "execution_count": 14,
   "id": "65cf92f8-0f72-43cc-adbb-a1d46b9d94c0",
   "metadata": {},
   "outputs": [
    {
     "data": {
      "text/plain": [
       "float"
      ]
     },
     "execution_count": 14,
     "metadata": {},
     "output_type": "execute_result"
    }
   ],
   "source": [
    "type(b)"
   ]
  },
  {
   "cell_type": "code",
   "execution_count": 15,
   "id": "f3c491f8-c149-4b1c-98d7-30983ca9873b",
   "metadata": {},
   "outputs": [
    {
     "data": {
      "text/plain": [
       "1"
      ]
     },
     "execution_count": 15,
     "metadata": {},
     "output_type": "execute_result"
    }
   ],
   "source": [
    "True*True"
   ]
  },
  {
   "cell_type": "code",
   "execution_count": 23,
   "id": "6fa6758e-da20-4cb1-8ff2-ea9ae524c098",
   "metadata": {},
   "outputs": [],
   "source": [
    "v=1+8j"
   ]
  },
  {
   "cell_type": "code",
   "execution_count": 25,
   "id": "30871afa-9b7c-4d56-88bc-2b5835975831",
   "metadata": {},
   "outputs": [
    {
     "data": {
      "text/plain": [
       "complex"
      ]
     },
     "execution_count": 25,
     "metadata": {},
     "output_type": "execute_result"
    }
   ],
   "source": [
    "type(v)"
   ]
  },
  {
   "cell_type": "code",
   "execution_count": 26,
   "id": "9d203e55-e43c-485a-bd3d-1c8edcf755a9",
   "metadata": {},
   "outputs": [
    {
     "data": {
      "text/plain": [
       "1.0"
      ]
     },
     "execution_count": 26,
     "metadata": {},
     "output_type": "execute_result"
    }
   ],
   "source": [
    "v.real"
   ]
  },
  {
   "cell_type": "code",
   "execution_count": 27,
   "id": "bf823bc3-14a3-4080-9c94-3077aa244a48",
   "metadata": {},
   "outputs": [
    {
     "data": {
      "text/plain": [
       "8.0"
      ]
     },
     "execution_count": 27,
     "metadata": {},
     "output_type": "execute_result"
    }
   ],
   "source": [
    "v.imag"
   ]
  },
  {
   "cell_type": "code",
   "execution_count": 12,
   "id": "f15f3d78-f982-4560-bf77-6c2de4a8545b",
   "metadata": {},
   "outputs": [],
   "source": [
    "S=\"Ramij\""
   ]
  },
  {
   "cell_type": "code",
   "execution_count": 13,
   "id": "dfe0e037-63dd-4330-91e1-0c0dd314cee0",
   "metadata": {},
   "outputs": [
    {
     "data": {
      "text/plain": [
       "'R'"
      ]
     },
     "execution_count": 13,
     "metadata": {},
     "output_type": "execute_result"
    }
   ],
   "source": [
    "S[0]"
   ]
  },
  {
   "cell_type": "code",
   "execution_count": 14,
   "id": "b32b8795-6de8-4c2b-958f-296d3919b010",
   "metadata": {},
   "outputs": [
    {
     "data": {
      "text/plain": [
       "'j'"
      ]
     },
     "execution_count": 14,
     "metadata": {},
     "output_type": "execute_result"
    }
   ],
   "source": [
    "S[-1]"
   ]
  },
  {
   "cell_type": "code",
   "execution_count": 15,
   "id": "96af8feb-b7c7-4c48-93b4-b40bffd0eb06",
   "metadata": {},
   "outputs": [
    {
     "data": {
      "text/plain": [
       "'Ra'"
      ]
     },
     "execution_count": 15,
     "metadata": {},
     "output_type": "execute_result"
    }
   ],
   "source": [
    "S[0:2]"
   ]
  },
  {
   "cell_type": "code",
   "execution_count": 16,
   "id": "36352437-52d2-4143-976f-5f2c78bbf29f",
   "metadata": {},
   "outputs": [
    {
     "data": {
      "text/plain": [
       "'Rmj'"
      ]
     },
     "execution_count": 16,
     "metadata": {},
     "output_type": "execute_result"
    }
   ],
   "source": [
    "S[0:5:2]"
   ]
  },
  {
   "cell_type": "code",
   "execution_count": 22,
   "id": "c16e6163-90b5-4778-9020-acc816a076d9",
   "metadata": {},
   "outputs": [
    {
     "data": {
      "text/plain": [
       "'jimaR'"
      ]
     },
     "execution_count": 22,
     "metadata": {},
     "output_type": "execute_result"
    }
   ],
   "source": [
    "S[::-1]"
   ]
  },
  {
   "cell_type": "code",
   "execution_count": 20,
   "id": "51fab9ae-b779-4528-a093-436a4001be95",
   "metadata": {},
   "outputs": [],
   "source": [
    "S=\"Pwskills\"\n"
   ]
  },
  {
   "cell_type": "code",
   "execution_count": 21,
   "id": "6cff2055-0aae-4a57-9755-39bb3aef116f",
   "metadata": {},
   "outputs": [
    {
     "data": {
      "text/plain": [
       "''"
      ]
     },
     "execution_count": 21,
     "metadata": {},
     "output_type": "execute_result"
    }
   ],
   "source": [
    "S[2:7:-1]"
   ]
  },
  {
   "cell_type": "code",
   "execution_count": 22,
   "id": "e4518e15-d6d0-45af-a8ff-b813c92263bc",
   "metadata": {},
   "outputs": [
    {
     "data": {
      "text/plain": [
       "'PwskillsPwskillsPwskills'"
      ]
     },
     "execution_count": 22,
     "metadata": {},
     "output_type": "execute_result"
    }
   ],
   "source": [
    "S * 3\n"
   ]
  },
  {
   "cell_type": "code",
   "execution_count": 23,
   "id": "8e12daa5-f851-4cab-bf6d-558f882107e0",
   "metadata": {},
   "outputs": [],
   "source": [
    "# Ramij"
   ]
  },
  {
   "cell_type": "code",
   "execution_count": 24,
   "id": "8c3f058f-de3c-41cc-b55a-f51e8163b8ba",
   "metadata": {},
   "outputs": [],
   "source": [
    "l=[1,3,\"Ramij\",True,4+7j,98.9]"
   ]
  },
  {
   "cell_type": "code",
   "execution_count": 25,
   "id": "06969851-5062-4fdc-b095-85b78ab0b0da",
   "metadata": {},
   "outputs": [
    {
     "data": {
      "text/plain": [
       "list"
      ]
     },
     "execution_count": 25,
     "metadata": {},
     "output_type": "execute_result"
    }
   ],
   "source": [
    "type(l)"
   ]
  },
  {
   "cell_type": "code",
   "execution_count": 26,
   "id": "e5d052a5-1de3-4b00-a8c6-c65f43a231f1",
   "metadata": {},
   "outputs": [
    {
     "data": {
      "text/plain": [
       "'Ramij'"
      ]
     },
     "execution_count": 26,
     "metadata": {},
     "output_type": "execute_result"
    }
   ],
   "source": [
    "l[2]"
   ]
  },
  {
   "cell_type": "code",
   "execution_count": 27,
   "id": "57aa1417-f964-49dd-808f-a6624d820ddd",
   "metadata": {},
   "outputs": [
    {
     "data": {
      "text/plain": [
       "[1, 3, 'Ramij']"
      ]
     },
     "execution_count": 27,
     "metadata": {},
     "output_type": "execute_result"
    }
   ],
   "source": [
    "l[0:3]"
   ]
  },
  {
   "cell_type": "code",
   "execution_count": 28,
   "id": "ed401bdb-916d-47fa-b4f2-e564a4c607a2",
   "metadata": {},
   "outputs": [
    {
     "data": {
      "text/plain": [
       "98.9"
      ]
     },
     "execution_count": 28,
     "metadata": {},
     "output_type": "execute_result"
    }
   ],
   "source": [
    " l[-1]"
   ]
  },
  {
   "cell_type": "code",
   "execution_count": 29,
   "id": "f1bc4200-1795-47d5-97cb-b73624c79511",
   "metadata": {},
   "outputs": [
    {
     "data": {
      "text/plain": [
       "[1, 'Ramij', (4+7j)]"
      ]
     },
     "execution_count": 29,
     "metadata": {},
     "output_type": "execute_result"
    }
   ],
   "source": [
    "l[::2]"
   ]
  },
  {
   "cell_type": "code",
   "execution_count": 30,
   "id": "50d9de3c-adee-416d-a282-6b46679a34aa",
   "metadata": {},
   "outputs": [
    {
     "data": {
      "text/plain": [
       "[1, 3, 'Ramij', True, (4+7j), 98.9]"
      ]
     },
     "execution_count": 30,
     "metadata": {},
     "output_type": "execute_result"
    }
   ],
   "source": [
    "l"
   ]
  },
  {
   "cell_type": "code",
   "execution_count": 31,
   "id": "d84f4d47-b8d4-41dc-acbd-e5d11a20bf91",
   "metadata": {},
   "outputs": [],
   "source": [
    "l.append(90)"
   ]
  },
  {
   "cell_type": "code",
   "execution_count": 32,
   "id": "0382d924-ad01-4f56-a749-788b8832e913",
   "metadata": {},
   "outputs": [
    {
     "data": {
      "text/plain": [
       "[1, 3, 'Ramij', True, (4+7j), 98.9, 90]"
      ]
     },
     "execution_count": 32,
     "metadata": {},
     "output_type": "execute_result"
    }
   ],
   "source": [
    "l"
   ]
  },
  {
   "cell_type": "code",
   "execution_count": 33,
   "id": "202b4e6c-b191-4090-aea5-1b324b2f3567",
   "metadata": {},
   "outputs": [],
   "source": [
    "l.append(S)"
   ]
  },
  {
   "cell_type": "code",
   "execution_count": 34,
   "id": "05f81e6c-5df2-44bd-a9ee-8f06da2dc01f",
   "metadata": {},
   "outputs": [
    {
     "data": {
      "text/plain": [
       "[1, 3, 'Ramij', True, (4+7j), 98.9, 90, 'Pwskills']"
      ]
     },
     "execution_count": 34,
     "metadata": {},
     "output_type": "execute_result"
    }
   ],
   "source": [
    "l"
   ]
  },
  {
   "cell_type": "code",
   "execution_count": 35,
   "id": "ce2dd690-8b24-4e29-a089-6b75d311eaa4",
   "metadata": {},
   "outputs": [],
   "source": [
    "l.extend([2.6,8])"
   ]
  },
  {
   "cell_type": "code",
   "execution_count": 36,
   "id": "35fe726e-6f44-411e-bd8a-8bfa03dfb6d7",
   "metadata": {},
   "outputs": [],
   "source": [
    "l.append([7,9,0])"
   ]
  },
  {
   "cell_type": "code",
   "execution_count": 37,
   "id": "f5aaefb1-c48c-4898-9773-fbb5cd1d6552",
   "metadata": {},
   "outputs": [
    {
     "data": {
      "text/plain": [
       "[1, 3, 'Ramij', True, (4+7j), 98.9, 90, 'Pwskills', 2.6, 8, [7, 9, 0]]"
      ]
     },
     "execution_count": 37,
     "metadata": {},
     "output_type": "execute_result"
    }
   ],
   "source": [
    "l"
   ]
  },
  {
   "cell_type": "code",
   "execution_count": 38,
   "id": "a4bf9d92-1d78-4a83-98e5-e98c3a3c2a80",
   "metadata": {},
   "outputs": [],
   "source": [
    "l.insert(0,[0,7])"
   ]
  },
  {
   "cell_type": "code",
   "execution_count": 39,
   "id": "47326c29-ee80-4866-9343-f418fbcbab4e",
   "metadata": {},
   "outputs": [
    {
     "data": {
      "text/plain": [
       "[[0, 7], 1, 3, 'Ramij', True, (4+7j), 98.9, 90, 'Pwskills', 2.6, 8, [7, 9, 0]]"
      ]
     },
     "execution_count": 39,
     "metadata": {},
     "output_type": "execute_result"
    }
   ],
   "source": [
    "l"
   ]
  },
  {
   "cell_type": "code",
   "execution_count": 40,
   "id": "f5dda086-18f4-4af7-b1f2-048abd5c462a",
   "metadata": {},
   "outputs": [],
   "source": [
    "l.insert(-1,45)"
   ]
  },
  {
   "cell_type": "code",
   "execution_count": 41,
   "id": "30b9c583-9df8-4140-99b8-b6f5824511c5",
   "metadata": {},
   "outputs": [
    {
     "data": {
      "text/plain": [
       "[[0, 7],\n",
       " 1,\n",
       " 3,\n",
       " 'Ramij',\n",
       " True,\n",
       " (4+7j),\n",
       " 98.9,\n",
       " 90,\n",
       " 'Pwskills',\n",
       " 2.6,\n",
       " 8,\n",
       " 45,\n",
       " [7, 9, 0]]"
      ]
     },
     "execution_count": 41,
     "metadata": {},
     "output_type": "execute_result"
    }
   ],
   "source": [
    "l"
   ]
  },
  {
   "cell_type": "code",
   "execution_count": 42,
   "id": "c7530c07-e67c-4820-8488-88605f3d5b30",
   "metadata": {},
   "outputs": [
    {
     "data": {
      "text/plain": [
       "[7, 9, 0]"
      ]
     },
     "execution_count": 42,
     "metadata": {},
     "output_type": "execute_result"
    }
   ],
   "source": [
    "l.pop()"
   ]
  },
  {
   "cell_type": "code",
   "execution_count": 43,
   "id": "b518999f-057a-4f36-85d6-c8f82997ed82",
   "metadata": {},
   "outputs": [
    {
     "data": {
      "text/plain": [
       "[[0, 7], 1, 3, 'Ramij', True, (4+7j), 98.9, 90, 'Pwskills', 2.6, 8, 45]"
      ]
     },
     "execution_count": 43,
     "metadata": {},
     "output_type": "execute_result"
    }
   ],
   "source": [
    "l"
   ]
  },
  {
   "cell_type": "code",
   "execution_count": 44,
   "id": "14da2cc2-1292-4e77-a9fa-9db1737bb795",
   "metadata": {},
   "outputs": [],
   "source": [
    "l.remove(90)"
   ]
  },
  {
   "cell_type": "code",
   "execution_count": 45,
   "id": "7558ac7b-89a1-4937-b477-d12a610322e1",
   "metadata": {},
   "outputs": [
    {
     "data": {
      "text/plain": [
       "[[0, 7], 1, 3, 'Ramij', True, (4+7j), 98.9, 'Pwskills', 2.6, 8, 45]"
      ]
     },
     "execution_count": 45,
     "metadata": {},
     "output_type": "execute_result"
    }
   ],
   "source": [
    "l\n"
   ]
  },
  {
   "cell_type": "code",
   "execution_count": 46,
   "id": "b60394f5-b466-4623-89c0-e0b74785412e",
   "metadata": {},
   "outputs": [],
   "source": [
    "l.remove(8)"
   ]
  },
  {
   "cell_type": "code",
   "execution_count": 47,
   "id": "b2383ed3-aec1-41fb-ade0-411955582691",
   "metadata": {},
   "outputs": [
    {
     "data": {
      "text/plain": [
       "[[0, 7], 1, 3, 'Ramij', True, (4+7j), 98.9, 'Pwskills', 2.6, 45]"
      ]
     },
     "execution_count": 47,
     "metadata": {},
     "output_type": "execute_result"
    }
   ],
   "source": [
    "l"
   ]
  },
  {
   "cell_type": "code",
   "execution_count": 48,
   "id": "419e9c57-4929-41e2-b269-a661e7c9b5d9",
   "metadata": {},
   "outputs": [
    {
     "data": {
      "text/plain": [
       "[45, 2.6, 'Pwskills', 98.9, (4+7j), True, 'Ramij', 3, 1, [0, 7]]"
      ]
     },
     "execution_count": 48,
     "metadata": {},
     "output_type": "execute_result"
    }
   ],
   "source": [
    "l[::-1]"
   ]
  },
  {
   "cell_type": "code",
   "execution_count": 49,
   "id": "81f729f0-e889-4047-9b15-6eecff5b1eaf",
   "metadata": {},
   "outputs": [],
   "source": [
    "l.reverse()"
   ]
  },
  {
   "cell_type": "code",
   "execution_count": 50,
   "id": "639c86c7-49f2-4a02-bbf0-fbe0f14ec040",
   "metadata": {},
   "outputs": [
    {
     "data": {
      "text/plain": [
       "[45, 2.6, 'Pwskills', 98.9, (4+7j), True, 'Ramij', 3, 1, [0, 7]]"
      ]
     },
     "execution_count": 50,
     "metadata": {},
     "output_type": "execute_result"
    }
   ],
   "source": [
    "l"
   ]
  },
  {
   "cell_type": "code",
   "execution_count": 51,
   "id": "3f7ee189-820e-4407-9ed6-79d68ebfbb44",
   "metadata": {},
   "outputs": [],
   "source": [
    "l2=[1,5,3,90,12,67]"
   ]
  },
  {
   "cell_type": "code",
   "execution_count": 52,
   "id": "d9e76c3c-4513-49a8-bb88-9970a93a3393",
   "metadata": {},
   "outputs": [],
   "source": [
    "l2.sort()"
   ]
  },
  {
   "cell_type": "code",
   "execution_count": 53,
   "id": "efac0627-9299-4ab2-b3c5-2509659e747e",
   "metadata": {},
   "outputs": [
    {
     "data": {
      "text/plain": [
       "[1, 3, 5, 12, 67, 90]"
      ]
     },
     "execution_count": 53,
     "metadata": {},
     "output_type": "execute_result"
    }
   ],
   "source": [
    "l2\n"
   ]
  },
  {
   "cell_type": "code",
   "execution_count": 54,
   "id": "cf253f80-5723-4aa2-a795-7eca04928396",
   "metadata": {},
   "outputs": [],
   "source": [
    "l3=[\"Ramij\",\"Ikbal\",\"Abdur\",\"Nojola\"]"
   ]
  },
  {
   "cell_type": "code",
   "execution_count": 55,
   "id": "023ad95a-1edc-4b28-bce2-f218e1d88e48",
   "metadata": {},
   "outputs": [],
   "source": [
    "l3.sort()"
   ]
  },
  {
   "cell_type": "code",
   "execution_count": 56,
   "id": "c198056d-521e-4eaf-9657-d98123d399ee",
   "metadata": {},
   "outputs": [
    {
     "data": {
      "text/plain": [
       "['Abdur', 'Ikbal', 'Nojola', 'Ramij']"
      ]
     },
     "execution_count": 56,
     "metadata": {},
     "output_type": "execute_result"
    }
   ],
   "source": [
    "l3"
   ]
  },
  {
   "cell_type": "code",
   "execution_count": 59,
   "id": "1b4f2ba9-f17c-4504-accd-d6845a65a77c",
   "metadata": {},
   "outputs": [],
   "source": [
    "l3.sort(reverse=True)"
   ]
  },
  {
   "cell_type": "code",
   "execution_count": 60,
   "id": "ada4d718-bc1e-4155-802b-dfd230693be9",
   "metadata": {},
   "outputs": [
    {
     "data": {
      "text/plain": [
       "['Ramij', 'Nojola', 'Ikbal', 'Abdur']"
      ]
     },
     "execution_count": 60,
     "metadata": {},
     "output_type": "execute_result"
    }
   ],
   "source": [
    "l3"
   ]
  },
  {
   "cell_type": "code",
   "execution_count": 6,
   "id": "d94fce1f-114f-4970-86a2-556d26fd539e",
   "metadata": {},
   "outputs": [],
   "source": [
    "t1=(2,3,5,\"Ramij\",True,12.45,2+6j)"
   ]
  },
  {
   "cell_type": "code",
   "execution_count": 7,
   "id": "b9d783e0-f404-423a-94e4-36103ac82443",
   "metadata": {},
   "outputs": [
    {
     "data": {
      "text/plain": [
       "tuple"
      ]
     },
     "execution_count": 7,
     "metadata": {},
     "output_type": "execute_result"
    }
   ],
   "source": [
    "type(t1)"
   ]
  },
  {
   "cell_type": "code",
   "execution_count": 14,
   "id": "1af7c474-0578-4107-b8d7-5329af926bd8",
   "metadata": {},
   "outputs": [
    {
     "data": {
      "text/plain": [
       "2"
      ]
     },
     "execution_count": 14,
     "metadata": {},
     "output_type": "execute_result"
    }
   ],
   "source": [
    "t1[0]"
   ]
  },
  {
   "cell_type": "code",
   "execution_count": 15,
   "id": "7576c3f1-fb9c-419d-b79b-f9e8db10f5a2",
   "metadata": {},
   "outputs": [
    {
     "data": {
      "text/plain": [
       "1"
      ]
     },
     "execution_count": 15,
     "metadata": {},
     "output_type": "execute_result"
    }
   ],
   "source": [
    "t1.count(5)"
   ]
  },
  {
   "cell_type": "code",
   "execution_count": 16,
   "id": "27646eb2-4e97-4d9e-80ec-4e4f2850a3c2",
   "metadata": {},
   "outputs": [
    {
     "data": {
      "text/plain": [
       "2"
      ]
     },
     "execution_count": 16,
     "metadata": {},
     "output_type": "execute_result"
    }
   ],
   "source": [
    "t1.index(5)"
   ]
  },
  {
   "cell_type": "code",
   "execution_count": 17,
   "id": "16b39728-5594-42b4-a5bd-4deeaaedefde",
   "metadata": {},
   "outputs": [],
   "source": [
    "s={}"
   ]
  },
  {
   "cell_type": "code",
   "execution_count": 18,
   "id": "d6b31220-50e7-432d-9240-2733e14eb6df",
   "metadata": {},
   "outputs": [
    {
     "data": {
      "text/plain": [
       "dict"
      ]
     },
     "execution_count": 18,
     "metadata": {},
     "output_type": "execute_result"
    }
   ],
   "source": [
    "type(s)"
   ]
  },
  {
   "cell_type": "code",
   "execution_count": 1,
   "id": "dfd508a3-f75d-493e-9abb-0a7a97d1b626",
   "metadata": {},
   "outputs": [],
   "source": [
    "s2={2,3.1,6,\"ramij\",True,3+6j}"
   ]
  },
  {
   "cell_type": "code",
   "execution_count": 24,
   "id": "67b6d0c6-e454-4d92-909b-2b62e242c3a1",
   "metadata": {},
   "outputs": [
    {
     "data": {
      "text/plain": [
       "set"
      ]
     },
     "execution_count": 24,
     "metadata": {},
     "output_type": "execute_result"
    }
   ],
   "source": [
    "type(s2)"
   ]
  },
  {
   "cell_type": "code",
   "execution_count": 2,
   "id": "c242f748-625a-45d6-a537-0a2818c8f267",
   "metadata": {},
   "outputs": [],
   "source": [
    "d={}"
   ]
  },
  {
   "cell_type": "code",
   "execution_count": 3,
   "id": "77fbd191-7a8a-4674-8bb4-9bc403400e56",
   "metadata": {},
   "outputs": [
    {
     "data": {
      "text/plain": [
       "dict"
      ]
     },
     "execution_count": 3,
     "metadata": {},
     "output_type": "execute_result"
    }
   ],
   "source": [
    "type(d)"
   ]
  },
  {
   "cell_type": "code",
   "execution_count": 16,
   "id": "25048d46-f66c-4bdb-bea2-f8ddab707c8f",
   "metadata": {},
   "outputs": [],
   "source": [
    "d1={\"Name\":'Ramij','Age':21,123:\"Kolkta\",True:0}"
   ]
  },
  {
   "cell_type": "code",
   "execution_count": 17,
   "id": "7ec1f244-a187-4414-968c-6c99164aae37",
   "metadata": {},
   "outputs": [
    {
     "data": {
      "text/plain": [
       "'Ramij'"
      ]
     },
     "execution_count": 17,
     "metadata": {},
     "output_type": "execute_result"
    }
   ],
   "source": [
    "d1['Name']"
   ]
  },
  {
   "cell_type": "code",
   "execution_count": 20,
   "id": "ca624d45-600f-4c2e-84eb-513e3322609e",
   "metadata": {},
   "outputs": [
    {
     "data": {
      "text/plain": [
       "0"
      ]
     },
     "execution_count": 20,
     "metadata": {},
     "output_type": "execute_result"
    }
   ],
   "source": [
    "d1[1]"
   ]
  },
  {
   "cell_type": "code",
   "execution_count": 28,
   "id": "dc242971-ec45-4232-83c1-138b812a22dd",
   "metadata": {},
   "outputs": [],
   "source": [
    "d2={\"Name\":\"Ramij\",\"Course\":[\"Physics\",\"CHemistry\",\"Math\",\"Biology\"]}"
   ]
  },
  {
   "cell_type": "code",
   "execution_count": 29,
   "id": "02bbb077-a813-47f0-8028-ff3efe098355",
   "metadata": {},
   "outputs": [
    {
     "data": {
      "text/plain": [
       "'Ramij'"
      ]
     },
     "execution_count": 29,
     "metadata": {},
     "output_type": "execute_result"
    }
   ],
   "source": [
    "d2['Name']\n",
    "\n"
   ]
  },
  {
   "cell_type": "code",
   "execution_count": 31,
   "id": "363cd6b7-1363-4024-92cd-8443adad9d09",
   "metadata": {},
   "outputs": [
    {
     "data": {
      "text/plain": [
       "'Physics'"
      ]
     },
     "execution_count": 31,
     "metadata": {},
     "output_type": "execute_result"
    }
   ],
   "source": [
    "d2[\"Course\"][0]"
   ]
  },
  {
   "cell_type": "code",
   "execution_count": null,
   "id": "59aabb66-6034-48e9-874a-b59069caec2b",
   "metadata": {},
   "outputs": [],
   "source": [
    "\"Ramij Ikbal\""
   ]
  }
 ],
 "metadata": {
  "kernelspec": {
   "display_name": "Python 3 (ipykernel)",
   "language": "python",
   "name": "python3"
  },
  "language_info": {
   "codemirror_mode": {
    "name": "ipython",
    "version": 3
   },
   "file_extension": ".py",
   "mimetype": "text/x-python",
   "name": "python",
   "nbconvert_exporter": "python",
   "pygments_lexer": "ipython3",
   "version": "3.13.2"
  }
 },
 "nbformat": 4,
 "nbformat_minor": 5
}
